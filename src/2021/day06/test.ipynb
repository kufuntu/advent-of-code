{
 "cells": [
  {
   "cell_type": "markdown",
   "metadata": {},
   "source": [
    "// initial: 8\n",
    "// after1:  7\n",
    "// after8:  0\n",
    "// after9:  6,8\n",
    "// after16: 6,1,8\n",
    "// after18: 4,6,6,8                         -> 4\n",
    "// after23: 6,1,1,3,8                       -> 5\n",
    "// after25: 4,6,6,1,6,8,8                   -> 7\n",
    "// after27: 2,4,4,6,4,6,6,8                 -> 8\n",
    "// after30: 6,1,1,3,1,3,3,5,8               -> 9\n",
    "// after32: 4,6,6,1,6,1,1,3,6,8,8,8         -> 12\n",
    "// after34: 2,4,4,6,4,6,6,1,4,6,6,6,8,8,8   -> 15\n",
    "\n",
    "x0: 4 in 34\n",
    "x1: 3 in 34\n",
    "x2: \n",
    "\n",
    "/*\n",
    "\n",
    "32\n",
    "\n",
    "leftDays = 25\n",
    "Math.pow(2, )\n",
    "\n",
    "1 = 1\n",
    "9 = 2\n",
    "23 = 4\n",
    "25 = 5\n",
    "*/"
   ]
  },
  {
   "cell_type": "code",
   "execution_count": null,
   "metadata": {},
   "outputs": [],
   "source": [
    "console.log(1)"
   ]
  }
 ],
 "metadata": {
  "language_info": {
   "name": "plaintext"
  },
  "orig_nbformat": 4
 },
 "nbformat": 4,
 "nbformat_minor": 2
}
